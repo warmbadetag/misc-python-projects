{
 "cells": [
  {
   "cell_type": "markdown",
   "metadata": {},
   "source": [
    "# Density Heatmap for inventive activity"
   ]
  },
  {
   "cell_type": "markdown",
   "metadata": {},
   "source": [
    "Main inspiration and datasource:\n",
    "\n",
    "de Rassenfosse, G., Kozak, J. & Seliger, F. Geocoding of worldwide patent data. Sci Data 6, 260 (2019). https://doi.org/10.1038/s41597-019-0264-6"
   ]
  },
  {
   "cell_type": "markdown",
   "metadata": {},
   "source": [
    "Further Resources:\n",
    "\n",
    "https://plot.ly/python/reference/#densitymapbox\n",
    "\n",
    "https://account.mapbox.com/access-tokens/"
   ]
  },
  {
   "cell_type": "markdown",
   "metadata": {},
   "source": [
    "## Import necessary packages and the dataset"
   ]
  },
  {
   "cell_type": "code",
   "execution_count": 1,
   "metadata": {},
   "outputs": [
    {
     "name": "stderr",
     "output_type": "stream",
     "text": [
      "C:\\Users\\Hannes M\\Anaconda3\\lib\\site-packages\\ipykernel\\parentpoller.py:116: UserWarning: Parent poll failed.  If the frontend dies,\n",
      "                the kernel may be left running.  Please let us know\n",
      "                about your system (bitness, Python, etc.) at\n",
      "                ipython-dev@scipy.org\n",
      "  ipython-dev@scipy.org\"\"\")\n"
     ]
    }
   ],
   "source": [
    "import pandas as pd\n",
    "import numpy as np\n",
    "import plotly.graph_objects as go\n",
    "mapbox_access_token = '' #Enter your mapbox token here \n",
    "from tqdm import * #Optional - provides a progress bar \n",
    "\n",
    "df=pd.read_csv('geoc_inv.txt',usecols=[2,3,4,5],parse_dates=['filing_date'])"
   ]
  },
  {
   "cell_type": "markdown",
   "metadata": {},
   "source": [
    "## Parse or filter the data"
   ]
  },
  {
   "cell_type": "code",
   "execution_count": 2,
   "metadata": {},
   "outputs": [],
   "source": [
    "df=df.sort_values(by=['filing_date'])\n",
    "df['weight'] = 1\n",
    "dates=df['filing_date'].unique() \n",
    "startdate=dates[0]\n",
    "\n",
    "#Optional: Filter by country code\n",
    "#df=df[df[\"ctry_code\"]=='DE']"
   ]
  },
  {
   "cell_type": "markdown",
   "metadata": {},
   "source": [
    "# Plot "
   ]
  },
  {
   "cell_type": "code",
   "execution_count": null,
   "metadata": {
    "scrolled": false
   },
   "outputs": [
    {
     "name": "stderr",
     "output_type": "stream",
     "text": [
      "\r\n",
      "  0%|                                                                                          | 0/430 [00:00<?, ?it/s]"
     ]
    },
    {
     "name": "stdout",
     "output_type": "stream",
     "text": [
      "init\n"
     ]
    },
    {
     "name": "stderr",
     "output_type": "stream",
     "text": [
      " 59%|███████████████████████████████████████████████▍                                | 255/430 [26:55<16:42,  5.73s/it]"
     ]
    }
   ],
   "source": [
    "event2plot = pd.DataFrame() \n",
    "\n",
    "for i in tqdm(range(430)):\n",
    "#for i in tqdm(range(1,2)):\n",
    "    cur_date=startdate+np.timedelta64(i*30,'D')\n",
    "    cur_date_end=cur_date+np.timedelta64(30,'D')\n",
    "    \n",
    "    cur_events=df[(df['filing_date']>cur_date-np.timedelta64(1,'D')) & (df['filing_date']<cur_date_end)]\n",
    "    \n",
    "    try:\n",
    "        event2plot.weight=event2plot.weight-0.1\n",
    "        event2plot=event2plot[event2plot[\"weight\"]>0.001]\n",
    "    except:\n",
    "        print('init')\n",
    "        \n",
    "    event2plot=event2plot.append(cur_events, ignore_index=True)\n",
    "    \n",
    "    fig = go.Figure(go.Densitymapbox(lat=event2plot.lat, lon=event2plot.lng, z=event2plot.weight, radius=1, colorscale='Viridis', showscale=False))\n",
    "\n",
    "    fig.update_layout(\n",
    "        autosize=True,\n",
    "        title = dict(\n",
    "            text=str(cur_date.astype('datetime64[M]')),\n",
    "            font=dict(size=40),\n",
    "        ) ,\n",
    "        mapbox=go.layout.Mapbox(\n",
    "            accesstoken=mapbox_access_token,\n",
    "            style='light',\n",
    "            bearing=0,\n",
    "            center=go.layout.mapbox.Center(\n",
    "                 lat=51,\n",
    "                 lon=10.5\n",
    "             ),\n",
    "             pitch=0,\n",
    "             zoom=5.5\n",
    "        ),\n",
    "    )\n",
    "\n",
    "    fig.write_image(\"results32/IMG{}.jpg\".format(i),width=800, height=1080, scale=1)\n"
   ]
  },
  {
   "cell_type": "code",
   "execution_count": 3,
   "metadata": {},
   "outputs": [
    {
     "data": {
      "text/html": [
       "<iframe width=\"560\" height=\"315\" src=\"https://www.youtube.com/embed/BP5-EnKmBys\" frameborder=\"0\" allowfullscreen></iframe>"
      ],
      "text/plain": [
       "<IPython.core.display.HTML object>"
      ]
     },
     "execution_count": 3,
     "metadata": {},
     "output_type": "execute_result"
    }
   ],
   "source": [
    "from IPython.display import HTML\n",
    "HTML('<iframe width=\"560\" height=\"315\" src=\"https://www.youtube.com/embed/BP5-EnKmBys\" frameborder=\"0\" allowfullscreen></iframe>')"
   ]
  }
 ],
 "metadata": {
  "kernelspec": {
   "display_name": "Python 3",
   "language": "python",
   "name": "python3"
  },
  "language_info": {
   "codemirror_mode": {
    "name": "ipython",
    "version": 3
   },
   "file_extension": ".py",
   "mimetype": "text/x-python",
   "name": "python",
   "nbconvert_exporter": "python",
   "pygments_lexer": "ipython3",
   "version": "3.8.6"
  }
 },
 "nbformat": 4,
 "nbformat_minor": 2
}
